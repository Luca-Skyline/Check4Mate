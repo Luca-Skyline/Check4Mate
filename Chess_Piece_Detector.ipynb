{
  "nbformat": 4,
  "nbformat_minor": 0,
  "metadata": {
    "colab": {
      "provenance": [],
      "authorship_tag": "ABX9TyOeyHy48Hb+MMEF/IlMFAM0",
      "include_colab_link": true
    },
    "kernelspec": {
      "name": "python3",
      "display_name": "Python 3"
    },
    "language_info": {
      "name": "python"
    }
  },
  "cells": [
    {
      "cell_type": "markdown",
      "metadata": {
        "id": "view-in-github",
        "colab_type": "text"
      },
      "source": [
        "<a href=\"https://colab.research.google.com/github/Luca-Skyline/Check4Mate/blob/main/Chess_Piece_Detector.ipynb\" target=\"_parent\"><img src=\"https://colab.research.google.com/assets/colab-badge.svg\" alt=\"Open In Colab\"/></a>"
      ]
    },
    {
      "cell_type": "code",
      "execution_count": 1,
      "metadata": {
        "id": "WmONEtp8FuKz",
        "outputId": "d233a46b-7901-4627-ec4e-1abe571ffc15",
        "colab": {
          "base_uri": "https://localhost:8080/"
        }
      },
      "outputs": [
        {
          "output_type": "stream",
          "name": "stdout",
          "text": [
            "2.13.0\n"
          ]
        }
      ],
      "source": [
        "# TensorFlow and tf.keras\n",
        "import tensorflow as tf\n",
        "\n",
        "# Helper libraries\n",
        "import numpy as np\n",
        "import matplotlib.pyplot as plt\n",
        "import os\n",
        "import cv2\n",
        "import pickle\n",
        "import gc\n",
        "\n",
        "print(tf.__version__)"
      ]
    },
    {
      "cell_type": "code",
      "source": [
        "!git clone https://github.com/Luca-Skyline/check4mate/\n",
        "%cd /content/check4mate/Chess_Classification_Dataset"
      ],
      "metadata": {
        "id": "g8k_03vwF25F",
        "colab": {
          "base_uri": "https://localhost:8080/"
        },
        "outputId": "d3a3da24-302f-4638-f2a0-bcedb38afe5a"
      },
      "execution_count": 2,
      "outputs": [
        {
          "output_type": "stream",
          "name": "stdout",
          "text": [
            "fatal: destination path 'check4mate' already exists and is not an empty directory.\n",
            "/content/check4mate/Chess_Classification_Dataset\n"
          ]
        }
      ]
    },
    {
      "cell_type": "code",
      "source": [
        "pickled_train_images = []\n",
        "train_labels = []\n",
        "\n",
        "for class_index, folder in enumerate(os.listdir('train/')):\n",
        "  train_images = []\n",
        "  current_folder_path = os.path.join('train/', folder)\n",
        "  if os.path.isdir(current_folder_path):\n",
        "    for image in os.listdir(current_folder_path):\n",
        "      current_image_path = os.path.join(current_folder_path, image)\n",
        "      if os.path.isfile(current_image_path):\n",
        "        image = cv2.imread(current_image_path, cv2.IMREAD_GRAYSCALE)\n",
        "        pixel_array = np.array(image.tolist())\n",
        "        train_images.append(pixel_array)\n",
        "        train_labels.append(class_index)\n",
        "  train_images = np.array(train_images)\n",
        "  pickled_train_images.append(pickle.dumps(train_images))\n",
        "  # with open(f'trainImages{class_index}.txt', 'wb') as f1:\n",
        "  #   pickle.dump(train_images, f1)\n",
        "\n",
        "train_labels = np.array(train_labels)\n",
        "\n",
        "pickled_train_labels = pickle.dumps(train_labels)\n",
        "\n",
        "del train_labels\n",
        "gc.collect()"
      ],
      "metadata": {
        "id": "eTfoFEIuL_YL"
      },
      "execution_count": null,
      "outputs": []
    },
    {
      "cell_type": "code",
      "source": [
        "test_images = []\n",
        "test_labels = []\n",
        "\n",
        "for class_index, folder in enumerate(os.listdir('valid/')):\n",
        "  current_folder_path = os.path.join('valid/', folder)\n",
        "  if os.path.isdir(current_folder_path):\n",
        "    for image in os.listdir(current_folder_path):\n",
        "      current_image_path = os.path.join(current_folder_path, image)\n",
        "      if os.path.isfile(current_image_path):\n",
        "        image = cv2.imread(current_image_path, cv2.IMREAD_GRAYSCALE)\n",
        "        pixel_array = np.array(image.tolist())\n",
        "        test_images.append(pixel_array)\n",
        "        test_labels.append(class_index)\n",
        "\n",
        "test_images = np.array(test_images)\n",
        "test_labels = np.array(test_labels)\n",
        "\n",
        "pickled_test_images = pickle.dumps(test_images)\n",
        "pickled_test_labels = pickle.dumps(test_labels)\n",
        "\n",
        "# with open('testImages.txt', 'wb') as f1:\n",
        "#    pickle.dump(test_images, f1)\n",
        "\n",
        "# with open('testLabels.txt', 'wb') as f1:\n",
        "#    pickle.dump(test_labels, f1)"
      ],
      "metadata": {
        "id": "SNph50BoMEvo"
      },
      "execution_count": null,
      "outputs": []
    },
    {
      "cell_type": "code",
      "source": [
        "class_names = ['bb', 'bk', 'bn', 'bp', 'bq',\n",
        "               'br', 'empty', 'wb', 'wk', 'wn',\n",
        "               'wp', 'wq', 'wr']\n",
        "\n",
        "for i in range(10):\n",
        "  pickled_train_images[i] = pickle.dumps(pickle.loads(pickled_train_images[i]) / 255.0)\n",
        "\n",
        "pickled_test_images = pickle.dumps(pickle.loads(pickled_test_images) / 255.0)\n",
        "\n",
        "plt.figure(figsize=(10,10))\n",
        "for i in range(25):\n",
        "    plt.subplot(5,5,i+1)\n",
        "    plt.xticks([])\n",
        "    plt.yticks([])\n",
        "    plt.grid(False)\n",
        "    plt.imshow(pickle.loads(pickled_train_images[0])[i])\n",
        "    # The CIFAR labels happen to be arrays,\n",
        "    # which is why you need the extra index\n",
        "    plt.xlabel(class_names[pickle.loads(pickled_train_labels)[i]])\n",
        "plt.show()"
      ],
      "metadata": {
        "id": "O16IcajfMryJ"
      },
      "execution_count": null,
      "outputs": []
    },
    {
      "cell_type": "code",
      "source": [
        "dataset.location"
      ],
      "metadata": {
        "colab": {
          "base_uri": "https://localhost:8080/",
          "height": 35
        },
        "id": "QHP4vH9LMwVO",
        "outputId": "50378f7c-ae3a-42f0-ff30-84e739ef9a12"
      },
      "execution_count": null,
      "outputs": [
        {
          "output_type": "execute_result",
          "data": {
            "text/plain": [
              "'/content/Chess-Piece-Detector-1'"
            ],
            "application/vnd.google.colaboratory.intrinsic+json": {
              "type": "string"
            }
          },
          "metadata": {},
          "execution_count": 6
        }
      ]
    },
    {
      "cell_type": "code",
      "source": [],
      "metadata": {
        "id": "SrE6BthoMzto"
      },
      "execution_count": null,
      "outputs": []
    }
  ]
}