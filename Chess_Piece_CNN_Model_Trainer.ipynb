{
  "nbformat": 4,
  "nbformat_minor": 0,
  "metadata": {
    "colab": {
      "provenance": [],
      "gpuType": "T4",
      "authorship_tag": "ABX9TyM8QBrYO49m7zTfczuLoRzs",
      "include_colab_link": true
    },
    "kernelspec": {
      "name": "python3",
      "display_name": "Python 3"
    },
    "language_info": {
      "name": "python"
    },
    "accelerator": "GPU"
  },
  "cells": [
    {
      "cell_type": "markdown",
      "metadata": {
        "id": "view-in-github",
        "colab_type": "text"
      },
      "source": [
        "<a href=\"https://colab.research.google.com/github/Luca-Skyline/check4mate/blob/main/Chess_Piece_CNN_Model_Trainer.ipynb\" target=\"_parent\"><img src=\"https://colab.research.google.com/assets/colab-badge.svg\" alt=\"Open In Colab\"/></a>"
      ]
    },
    {
      "cell_type": "markdown",
      "source": [
        "10/29/2023 Luca DalCanto\n",
        "\n",
        "# Chess Piece Convolutional Neural Network (CNN)\n",
        "The code contained in this jupyter notebook was used to create the Deep Learning image classification model used in check4mate, an app in development by Luca DalCanto.\n",
        "\n",
        "This code uses YOLOv5, a leading Neural Network for object detection and segmentation, but uses it instead for image classification. A dataset with around 25000 images is loaded from Roboflow, with each image labeled as one of 13 classes (6 pieces of two colors, plus the \"empty square\" class). The \"medium\" size of YOLOv5 model is fit with this data over 40 epochs, and the .pt file is then exported for use in my app.\n",
        "\n",
        "### Data\n",
        "\n",
        "You can find the dataset I used on Roboflow: https://universe.roboflow.com/luca-dalcanto-lrlwg/chess-piece-detector-sv3nm/dataset/4. This is my Roboflow project, but the images themselves are attributed to someone else (see below).\n",
        "\n",
        "This data has been preprocessed and augmented with the following properties:\n",
        "\n",
        "*   Preprocessing: Grayscale\n",
        "*   Preprocessing: Resize to 224x224 pixels (this should not do anything with my particular dataset but it's a good safety)\n",
        "*   Augmentation: 90°, 180°, 270° Rotation\n",
        "*   Augmentation: Brightness 20%\n",
        "*   Augmentation: Exposre 4%\n",
        "*   Augmentation: Blur 0.3px\n",
        "\n",
        "The preprocessing homogenizes the images, and the augmentation allows to have more images by duplicating some of the images with changes such as rotation and shear (the CNN needs to be able to identify a chess piece from any overhead angle).\n",
        "\n",
        "Data attributed to Daylen Yang under the Open Data Commons Attribution License: http://opendatacommons.org/licenses/by/1.0/.\n",
        "Thank you so much Daylen Yang!\n",
        "\n",
        "This data has been adapted for this specific dataset. By the nature of the Open Data Commons Attribution License, this \"new\" dataset found here is also protected by the same license. This means you can use this data, but you need to attribute and any modified form of the data must also be released under the same license.\n",
        "\n",
        "For more info on the raw data, please see Daylen Yang's github repo: https://github.com/daylen/chess-id\n",
        "\n",
        "Thanks! <br>\n",
        "Luca DalCanto, <br>\n",
        "Skyline High School, SLC, UT"
      ],
      "metadata": {
        "id": "xuM5MvoDjNQx"
      }
    },
    {
      "cell_type": "code",
      "source": [
        "!git clone https://github.com/ultralytics/yolov5  # clone\n",
        "%cd yolov5\n",
        "%pip install -qr requirements.txt  # install\n",
        "\n",
        "import torch\n",
        "import utils\n",
        "display = utils.notebook_init()  # checks"
      ],
      "metadata": {
        "colab": {
          "base_uri": "https://localhost:8080/"
        },
        "id": "8t23YMrPsDKw",
        "outputId": "eaef9441-e297-4a2e-a451-c1be4fc9ffbc"
      },
      "execution_count": 1,
      "outputs": [
        {
          "output_type": "stream",
          "name": "stderr",
          "text": [
            "YOLOv5 🚀 v7.0-294-gdb125a20 Python-3.10.12 torch-2.2.1+cu121 CUDA:0 (Tesla T4, 15102MiB)\n"
          ]
        },
        {
          "output_type": "stream",
          "name": "stdout",
          "text": [
            "Setup complete ✅ (2 CPUs, 12.7 GB RAM, 28.9/78.2 GB disk)\n"
          ]
        }
      ]
    },
    {
      "cell_type": "code",
      "source": [
        "# Ensure we're in the right directory to download our custom dataset\n",
        "import os\n",
        "os.makedirs(\"../datasets/\", exist_ok=True)\n",
        "%cd ../datasets/"
      ],
      "metadata": {
        "colab": {
          "base_uri": "https://localhost:8080/"
        },
        "id": "ltwOos0nsFws",
        "outputId": "32feeff2-96ae-42fb-eb05-65a2f75afed9"
      },
      "execution_count": 2,
      "outputs": [
        {
          "output_type": "stream",
          "name": "stdout",
          "text": [
            "/content/datasets\n"
          ]
        }
      ]
    },
    {
      "cell_type": "code",
      "source": [
        "## For safety reason, as this is a public colab, the API Key has been removed. To proceed, copy and paste the download code from Roboflow into this cell\n",
        "# https://universe.roboflow.com/luca-dalcanto-lrlwg/chess-piece-detector-sv3nm/dataset/4\n",
        "\n",
        "# !pip install roboflow\n",
        "\n",
        "# from roboflow import Roboflow\n",
        "# rf = Roboflow(api_key=\"INSERT KEY HERE\")\n",
        "# project = rf.workspace(\"luca-dalcanto-lrlwg\").project(\"chess-piece-detector-sv3nm\")\n",
        "# version = project.version(9)\n",
        "# dataset = version.download(\"folder\")\n"
      ],
      "metadata": {
        "colab": {
          "base_uri": "https://localhost:8080/",
          "height": 1000
        },
        "id": "DkQGDwIvsIkE",
        "outputId": "4aa08876-2d71-4556-cfff-60976d5fb9e9"
      },
      "execution_count": 3,
      "outputs": [
        {
          "output_type": "stream",
          "name": "stdout",
          "text": [
            "Collecting roboflow\n",
            "  Downloading roboflow-1.1.24-py3-none-any.whl (71 kB)\n",
            "\u001b[?25l     \u001b[90m━━━━━━━━━━━━━━━━━━━━━━━━━━━━━━━━━━━━━━━━\u001b[0m \u001b[32m0.0/71.7 kB\u001b[0m \u001b[31m?\u001b[0m eta \u001b[36m-:--:--\u001b[0m\r\u001b[2K     \u001b[90m━━━━━━━━━━━━━━━━━━━━━━━━━━━━━━━━━━━━━━━━\u001b[0m \u001b[32m71.7/71.7 kB\u001b[0m \u001b[31m2.9 MB/s\u001b[0m eta \u001b[36m0:00:00\u001b[0m\n",
            "\u001b[?25hCollecting certifi==2023.7.22 (from roboflow)\n",
            "  Downloading certifi-2023.7.22-py3-none-any.whl (158 kB)\n",
            "\u001b[2K     \u001b[90m━━━━━━━━━━━━━━━━━━━━━━━━━━━━━━━━━━━━━━━━\u001b[0m \u001b[32m158.3/158.3 kB\u001b[0m \u001b[31m8.0 MB/s\u001b[0m eta \u001b[36m0:00:00\u001b[0m\n",
            "\u001b[?25hCollecting chardet==4.0.0 (from roboflow)\n",
            "  Downloading chardet-4.0.0-py2.py3-none-any.whl (178 kB)\n",
            "\u001b[2K     \u001b[90m━━━━━━━━━━━━━━━━━━━━━━━━━━━━━━━━━━━━━━━━\u001b[0m \u001b[32m178.7/178.7 kB\u001b[0m \u001b[31m12.1 MB/s\u001b[0m eta \u001b[36m0:00:00\u001b[0m\n",
            "\u001b[?25hCollecting cycler==0.10.0 (from roboflow)\n",
            "  Downloading cycler-0.10.0-py2.py3-none-any.whl (6.5 kB)\n",
            "Collecting idna==2.10 (from roboflow)\n",
            "  Downloading idna-2.10-py2.py3-none-any.whl (58 kB)\n",
            "\u001b[2K     \u001b[90m━━━━━━━━━━━━━━━━━━━━━━━━━━━━━━━━━━━━━━━━\u001b[0m \u001b[32m58.8/58.8 kB\u001b[0m \u001b[31m8.2 MB/s\u001b[0m eta \u001b[36m0:00:00\u001b[0m\n",
            "\u001b[?25hRequirement already satisfied: kiwisolver>=1.3.1 in /usr/local/lib/python3.10/dist-packages (from roboflow) (1.4.5)\n",
            "Requirement already satisfied: matplotlib in /usr/local/lib/python3.10/dist-packages (from roboflow) (3.7.1)\n",
            "Requirement already satisfied: numpy>=1.18.5 in /usr/local/lib/python3.10/dist-packages (from roboflow) (1.25.2)\n",
            "Collecting opencv-python-headless==4.8.0.74 (from roboflow)\n",
            "  Downloading opencv_python_headless-4.8.0.74-cp37-abi3-manylinux_2_17_x86_64.manylinux2014_x86_64.whl (49.1 MB)\n",
            "\u001b[2K     \u001b[90m━━━━━━━━━━━━━━━━━━━━━━━━━━━━━━━━━━━━━━━━\u001b[0m \u001b[32m49.1/49.1 MB\u001b[0m \u001b[31m11.3 MB/s\u001b[0m eta \u001b[36m0:00:00\u001b[0m\n",
            "\u001b[?25hRequirement already satisfied: Pillow>=7.1.2 in /usr/local/lib/python3.10/dist-packages (from roboflow) (9.4.0)\n",
            "Requirement already satisfied: python-dateutil in /usr/local/lib/python3.10/dist-packages (from roboflow) (2.8.2)\n",
            "Collecting python-dotenv (from roboflow)\n",
            "  Downloading python_dotenv-1.0.1-py3-none-any.whl (19 kB)\n",
            "Requirement already satisfied: requests in /usr/local/lib/python3.10/dist-packages (from roboflow) (2.31.0)\n",
            "Requirement already satisfied: six in /usr/local/lib/python3.10/dist-packages (from roboflow) (1.16.0)\n",
            "Requirement already satisfied: urllib3>=1.26.6 in /usr/local/lib/python3.10/dist-packages (from roboflow) (2.0.7)\n",
            "Requirement already satisfied: tqdm>=4.41.0 in /usr/local/lib/python3.10/dist-packages (from roboflow) (4.66.2)\n",
            "Requirement already satisfied: PyYAML>=5.3.1 in /usr/local/lib/python3.10/dist-packages (from roboflow) (6.0.1)\n",
            "Collecting requests-toolbelt (from roboflow)\n",
            "  Downloading requests_toolbelt-1.0.0-py2.py3-none-any.whl (54 kB)\n",
            "\u001b[2K     \u001b[90m━━━━━━━━━━━━━━━━━━━━━━━━━━━━━━━━━━━━━━━━\u001b[0m \u001b[32m54.5/54.5 kB\u001b[0m \u001b[31m7.8 MB/s\u001b[0m eta \u001b[36m0:00:00\u001b[0m\n",
            "\u001b[?25hCollecting python-magic (from roboflow)\n",
            "  Downloading python_magic-0.4.27-py2.py3-none-any.whl (13 kB)\n",
            "Requirement already satisfied: contourpy>=1.0.1 in /usr/local/lib/python3.10/dist-packages (from matplotlib->roboflow) (1.2.0)\n",
            "Requirement already satisfied: fonttools>=4.22.0 in /usr/local/lib/python3.10/dist-packages (from matplotlib->roboflow) (4.49.0)\n",
            "Requirement already satisfied: packaging>=20.0 in /usr/local/lib/python3.10/dist-packages (from matplotlib->roboflow) (24.0)\n",
            "Requirement already satisfied: pyparsing>=2.3.1 in /usr/local/lib/python3.10/dist-packages (from matplotlib->roboflow) (3.1.2)\n",
            "Requirement already satisfied: charset-normalizer<4,>=2 in /usr/local/lib/python3.10/dist-packages (from requests->roboflow) (3.3.2)\n",
            "Installing collected packages: python-magic, python-dotenv, opencv-python-headless, idna, cycler, chardet, certifi, requests-toolbelt, roboflow\n",
            "  Attempting uninstall: opencv-python-headless\n",
            "    Found existing installation: opencv-python-headless 4.9.0.80\n",
            "    Uninstalling opencv-python-headless-4.9.0.80:\n",
            "      Successfully uninstalled opencv-python-headless-4.9.0.80\n",
            "  Attempting uninstall: idna\n",
            "    Found existing installation: idna 3.6\n",
            "    Uninstalling idna-3.6:\n",
            "      Successfully uninstalled idna-3.6\n",
            "  Attempting uninstall: cycler\n",
            "    Found existing installation: cycler 0.12.1\n",
            "    Uninstalling cycler-0.12.1:\n",
            "      Successfully uninstalled cycler-0.12.1\n",
            "  Attempting uninstall: chardet\n",
            "    Found existing installation: chardet 5.2.0\n",
            "    Uninstalling chardet-5.2.0:\n",
            "      Successfully uninstalled chardet-5.2.0\n",
            "  Attempting uninstall: certifi\n",
            "    Found existing installation: certifi 2024.2.2\n",
            "    Uninstalling certifi-2024.2.2:\n",
            "      Successfully uninstalled certifi-2024.2.2\n",
            "Successfully installed certifi-2023.7.22 chardet-4.0.0 cycler-0.10.0 idna-2.10 opencv-python-headless-4.8.0.74 python-dotenv-1.0.1 python-magic-0.4.27 requests-toolbelt-1.0.0 roboflow-1.1.24\n"
          ]
        },
        {
          "output_type": "display_data",
          "data": {
            "application/vnd.colab-display-data+json": {
              "pip_warning": {
                "packages": [
                  "certifi",
                  "chardet",
                  "cv2",
                  "cycler",
                  "idna"
                ]
              },
              "id": "47fc8045e5214a8683d463932d3a8403"
            }
          },
          "metadata": {}
        },
        {
          "output_type": "stream",
          "name": "stdout",
          "text": [
            "loading Roboflow workspace...\n",
            "loading Roboflow project...\n"
          ]
        },
        {
          "output_type": "stream",
          "name": "stderr",
          "text": [
            "Downloading Dataset Version Zip in Chess-Piece-Detector-9 to folder:: 100%|██████████| 20737/20737 [00:00<00:00, 29601.38it/s]"
          ]
        },
        {
          "output_type": "stream",
          "name": "stdout",
          "text": [
            "\n"
          ]
        },
        {
          "output_type": "stream",
          "name": "stderr",
          "text": [
            "\n",
            "Extracting Dataset Version Zip to Chess-Piece-Detector-9 in folder:: 100%|██████████| 4382/4382 [00:00<00:00, 9568.92it/s]\n"
          ]
        }
      ]
    },
    {
      "cell_type": "code",
      "source": [
        "#Save the dataset name to the environment so we can use it in a system call later\n",
        "dataset_name = dataset.location.split(os.sep)[-1]\n",
        "os.environ[\"Chess-Piece-Detector-9\"] = dataset_name"
      ],
      "metadata": {
        "id": "Qo0nMZOCsX2H"
      },
      "execution_count": 4,
      "outputs": []
    },
    {
      "cell_type": "code",
      "source": [
        "from genericpath import isfile\n",
        "import os\n",
        "\n",
        "\n",
        "\n",
        "for my_dir in os.listdir('/content/datasets/Chess-Piece-Detector-9/train'):\n",
        "  num_files = 0\n",
        "  for filename in os.listdir('/content/datasets/Chess-Piece-Detector-9/train/' + my_dir):\n",
        "    num_files += 1\n",
        "  print(my_dir,': ', num_files)\n"
      ],
      "metadata": {
        "id": "zM0JuD9wO1bm",
        "outputId": "c3389eb2-0ef5-4c83-f740-6121a66c1296",
        "colab": {
          "base_uri": "https://localhost:8080/"
        }
      },
      "execution_count": 5,
      "outputs": [
        {
          "output_type": "stream",
          "name": "stdout",
          "text": [
            "empty :  259\n",
            "bk :  207\n",
            "bn :  310\n",
            "bq :  276\n",
            "br :  197\n",
            "bp :  288\n",
            "wr :  288\n",
            "wq :  311\n",
            "wb :  315\n",
            "wp :  268\n",
            "wn :  300\n",
            "wk :  208\n",
            "bb :  323\n"
          ]
        }
      ]
    },
    {
      "cell_type": "markdown",
      "source": [
        "***NOTE: Rename the \"valid\" folder to \"val\" at this time!***"
      ],
      "metadata": {
        "id": "6rI59WyqA0Av"
      }
    },
    {
      "cell_type": "code",
      "source": [
        "%cd ../yolov5\n",
        "!python classify/train.py --model yolov5m-cls.pt --data Chess-Piece-Detector-9 --epochs 200 --img 224 --pretrained weights/yolov5m-cls.pt"
      ],
      "metadata": {
        "colab": {
          "base_uri": "https://localhost:8080/"
        },
        "id": "Pz6Dk1UKsvwJ",
        "outputId": "fb5ce870-17a1-45bc-a66a-5cd237dd102d"
      },
      "execution_count": 8,
      "outputs": [
        {
          "output_type": "stream",
          "name": "stdout",
          "text": [
            "/content/yolov5\n",
            "2024-03-17 14:34:36.055375: E external/local_xla/xla/stream_executor/cuda/cuda_dnn.cc:9261] Unable to register cuDNN factory: Attempting to register factory for plugin cuDNN when one has already been registered\n",
            "2024-03-17 14:34:36.055430: E external/local_xla/xla/stream_executor/cuda/cuda_fft.cc:607] Unable to register cuFFT factory: Attempting to register factory for plugin cuFFT when one has already been registered\n",
            "2024-03-17 14:34:36.057110: E external/local_xla/xla/stream_executor/cuda/cuda_blas.cc:1515] Unable to register cuBLAS factory: Attempting to register factory for plugin cuBLAS when one has already been registered\n",
            "\u001b[34m\u001b[1mclassify/train: \u001b[0mmodel=yolov5m-cls.pt, data=Chess-Piece-Detector-9, epochs=200, batch_size=64, imgsz=224, nosave=False, cache=None, device=, workers=8, project=runs/train-cls, name=exp, exist_ok=False, pretrained=weights/yolov5m-cls.pt, optimizer=Adam, lr0=0.001, decay=5e-05, label_smoothing=0.1, cutoff=None, dropout=None, verbose=False, seed=0, local_rank=-1\n",
            "\u001b[34m\u001b[1mgithub: \u001b[0mup to date with https://github.com/ultralytics/yolov5 ✅\n",
            "YOLOv5 🚀 v7.0-294-gdb125a20 Python-3.10.12 torch-2.2.1+cu121 CUDA:0 (Tesla T4, 15102MiB)\n",
            "\n",
            "\u001b[34m\u001b[1mTensorBoard: \u001b[0mStart with 'tensorboard --logdir runs/train-cls', view at http://localhost:6006/\n",
            "\u001b[34m\u001b[1malbumentations: \u001b[0mRandomResizedCrop(p=1.0, height=224, width=224, scale=(0.08, 1.0), ratio=(0.75, 1.3333333333333333), interpolation=1), HorizontalFlip(p=0.5), ColorJitter(p=0.5, brightness=[0.6, 1.4], contrast=[0.6, 1.4], saturation=[0.6, 1.4], hue=[0, 0]), Normalize(p=1.0, mean=(0.485, 0.456, 0.406), std=(0.229, 0.224, 0.225), max_pixel_value=255.0), ToTensorV2(always_apply=True, p=1.0, transpose_mask=False)\n",
            "Model summary: 212 layers, 11693293 parameters, 11693293 gradients, 30.9 GFLOPs\n",
            "\u001b[34m\u001b[1moptimizer:\u001b[0m Adam(lr=0.001) with parameter groups 46 weight(decay=0.0), 47 weight(decay=5e-05), 47 bias\n",
            "Image sizes 224 train, 224 test\n",
            "Using 1 dataloader workers\n",
            "Logging results to \u001b[1mruns/train-cls/exp3\u001b[0m\n",
            "Starting yolov5m-cls.pt training on Chess-Piece-Detector-9 dataset with 13 classes for 200 epochs...\n",
            "\n",
            "     Epoch   GPU_mem  train_loss    val_loss    top1_acc    top5_acc\n",
            "     1/200     2.16G         2.3        4.15      0.0448         0.3: 100% 56/56 [00:15<00:00,  3.52it/s]\n",
            "     2/200     2.71G        2.16        14.3       0.166       0.618: 100% 56/56 [00:13<00:00,  4.12it/s]\n",
            "     3/200     2.71G        2.15        2.69       0.166       0.605: 100% 56/56 [00:13<00:00,  4.05it/s]\n",
            "     4/200     2.71G        2.11        3.24       0.123       0.676: 100% 56/56 [00:13<00:00,  4.05it/s]\n",
            "     5/200     2.71G        2.03        2.39       0.249        0.76: 100% 56/56 [00:13<00:00,  4.03it/s]\n",
            "     6/200     2.71G        1.94        2.88       0.194       0.752: 100% 56/56 [00:14<00:00,  3.84it/s]\n",
            "     7/200     2.71G         1.9        2.87       0.188       0.558: 100% 56/56 [00:14<00:00,  3.92it/s]\n",
            "     8/200     2.71G        1.85        3.07       0.223       0.786: 100% 56/56 [00:14<00:00,  3.88it/s]\n",
            "     9/200     2.71G        1.84        1.82        0.37       0.936: 100% 56/56 [00:13<00:00,  4.02it/s]\n",
            "    10/200     2.71G         1.8        2.04       0.298       0.889: 100% 56/56 [00:13<00:00,  4.02it/s]\n",
            "    11/200     2.71G        1.77        1.85       0.395       0.919: 100% 56/56 [00:13<00:00,  4.01it/s]\n",
            "    12/200     2.71G        1.72        1.84       0.377       0.939: 100% 56/56 [00:13<00:00,  4.01it/s]\n",
            "    13/200     2.71G        1.69        1.99       0.374       0.898: 100% 56/56 [00:14<00:00,  3.96it/s]\n",
            "    14/200     2.71G        1.68        2.05       0.247       0.838: 100% 56/56 [00:14<00:00,  3.96it/s]\n",
            "    15/200     2.71G        1.64        3.26       0.279       0.822: 100% 56/56 [00:14<00:00,  3.84it/s]\n",
            "    16/200     2.71G         1.6        1.75       0.432        0.94: 100% 56/56 [00:14<00:00,  4.00it/s]\n",
            "    17/200     2.71G        1.61         2.8       0.395       0.883: 100% 56/56 [00:13<00:00,  4.02it/s]\n",
            "    18/200     2.71G        1.59        2.33        0.29       0.742: 100% 56/56 [00:13<00:00,  4.02it/s]\n",
            "    19/200     2.71G        1.54        1.49       0.511        0.96: 100% 56/56 [00:14<00:00,  3.79it/s]\n",
            "    20/200     2.71G        1.53        1.34       0.616       0.996: 100% 56/56 [00:14<00:00,  4.00it/s]\n",
            "    21/200     2.71G        1.52        1.85       0.461       0.929: 100% 56/56 [00:14<00:00,  3.89it/s]\n",
            "    22/200     2.71G        1.48        2.67        0.22       0.624: 100% 56/56 [00:14<00:00,  3.93it/s]\n",
            "    23/200     2.71G        1.49        1.55       0.513       0.973: 100% 56/56 [00:14<00:00,  3.99it/s]\n",
            "    24/200     2.71G        1.49        1.29       0.639       0.991: 100% 56/56 [00:13<00:00,  4.03it/s]\n",
            "    25/200     2.71G        1.41        1.55       0.524       0.963: 100% 56/56 [00:13<00:00,  4.02it/s]\n",
            "    26/200     2.71G        1.42        1.44       0.604        0.98: 100% 56/56 [00:14<00:00,  3.94it/s]\n",
            "    27/200     2.71G        1.37        1.48        0.58       0.991: 100% 56/56 [00:14<00:00,  3.96it/s]\n",
            "    28/200     2.71G        1.35        1.35        0.64       0.983: 100% 56/56 [00:14<00:00,  3.97it/s]\n",
            "    29/200     2.71G        1.33        1.23       0.714        0.99: 100% 56/56 [00:14<00:00,  3.83it/s]\n",
            "    30/200     2.71G        1.31        1.26       0.655           1: 100% 56/56 [00:13<00:00,  4.01it/s]\n",
            "    31/200     2.71G        1.29        2.21       0.354       0.715: 100% 56/56 [00:13<00:00,  4.01it/s]\n",
            "    32/200     2.71G        1.27        1.19        0.75       0.994: 100% 56/56 [00:14<00:00,  3.75it/s]\n",
            "    33/200     2.71G        1.29        1.78       0.491       0.883: 100% 56/56 [00:13<00:00,  4.02it/s]\n",
            "    34/200     2.71G        1.25         1.1       0.821       0.999: 100% 56/56 [00:14<00:00,  3.90it/s]\n",
            "    35/200     2.71G        1.25        1.12       0.757       0.999: 100% 56/56 [00:14<00:00,  3.83it/s]\n",
            "    36/200     2.71G        1.21        1.12       0.751       0.989: 100% 56/56 [00:14<00:00,  3.92it/s]\n",
            "    37/200     2.71G        1.21         1.1       0.778       0.995: 100% 56/56 [00:14<00:00,  3.94it/s]\n",
            "    38/200     2.71G        1.19        1.26       0.695       0.971: 100% 56/56 [00:14<00:00,  3.89it/s]\n",
            "    39/200     2.71G        1.18        1.57       0.555       0.949: 100% 56/56 [00:14<00:00,  3.83it/s]\n",
            "    40/200     2.71G        1.16        1.14       0.793        0.98: 100% 56/56 [00:14<00:00,  3.81it/s]\n",
            "    41/200     2.71G        1.14         1.2       0.715       0.978: 100% 56/56 [00:15<00:00,  3.68it/s]\n",
            "    42/200     2.71G        1.14        1.32       0.685       0.979: 100% 56/56 [00:14<00:00,  3.94it/s]\n",
            "    43/200     2.71G        1.12         1.3       0.715       0.966: 100% 56/56 [00:14<00:00,  3.91it/s]\n",
            "    44/200     2.71G        1.12        1.25       0.714       0.965: 100% 56/56 [00:14<00:00,  3.76it/s]\n",
            "    45/200     2.71G        1.13       0.958       0.848           1: 100% 56/56 [00:14<00:00,  3.95it/s]\n",
            "    46/200     2.71G         1.1        1.29       0.684       0.965: 100% 56/56 [00:14<00:00,  3.96it/s]\n",
            "    47/200     2.71G        1.07       0.961       0.893       0.999: 100% 56/56 [00:14<00:00,  3.76it/s]\n",
            "    48/200     2.71G        1.08         0.9       0.877       0.996: 100% 56/56 [00:14<00:00,  3.98it/s]\n",
            "    49/200     2.71G        1.06       0.871       0.898       0.995: 100% 56/56 [00:14<00:00,  3.96it/s]\n",
            "    50/200     2.71G        1.06        1.04       0.802       0.998: 100% 56/56 [00:13<00:00,  4.04it/s]\n",
            "    51/200     2.71G        1.07        1.02       0.837       0.994: 100% 56/56 [00:14<00:00,  3.94it/s]\n",
            "    52/200     2.71G        1.07       0.873       0.882           1: 100% 56/56 [00:14<00:00,  3.98it/s]\n",
            "    53/200     2.71G        1.04       0.921       0.854       0.999: 100% 56/56 [00:14<00:00,  3.98it/s]\n",
            "    54/200     2.71G        1.03       0.773       0.936           1: 100% 56/56 [00:14<00:00,  3.82it/s]\n",
            "    55/200     2.71G        1.04        1.12       0.751       0.989: 100% 56/56 [00:14<00:00,  3.94it/s]\n",
            "    56/200     2.71G        1.04        1.39       0.638       0.877: 100% 56/56 [00:14<00:00,  3.97it/s]\n",
            "    57/200     2.71G        1.02        1.37       0.686       0.956: 100% 56/56 [00:15<00:00,  3.72it/s]\n",
            "    58/200     2.71G        1.02       0.772       0.941           1: 100% 56/56 [00:14<00:00,  3.94it/s]\n",
            "    59/200     2.71G        1.02       0.966       0.841       0.995: 100% 56/56 [00:14<00:00,  3.95it/s]\n",
            "    60/200     2.71G        1.02       0.982       0.801       0.996: 100% 56/56 [00:14<00:00,  3.79it/s]\n",
            "    61/200     2.71G       0.979       0.782       0.932       0.999: 100% 56/56 [00:14<00:00,  3.95it/s]\n",
            "    62/200     2.71G        1.01        0.93       0.866       0.998: 100% 56/56 [00:14<00:00,  3.97it/s]\n",
            "    63/200     2.71G       0.997       0.686       0.978           1: 100% 56/56 [00:14<00:00,  3.95it/s]\n",
            "    64/200     2.71G       0.993        0.81       0.914       0.999: 100% 56/56 [00:14<00:00,  3.98it/s]\n",
            "    65/200     2.71G       0.984       0.923       0.882       0.996: 100% 56/56 [00:14<00:00,  3.95it/s]\n",
            "    66/200     2.71G       0.978        1.21       0.731       0.979: 100% 56/56 [00:14<00:00,  3.89it/s]\n",
            "    67/200     2.71G       0.979       0.756       0.959           1: 100% 56/56 [00:14<00:00,  3.87it/s]\n",
            "    68/200     2.71G       0.983       0.705       0.955           1: 100% 56/56 [00:14<00:00,  3.97it/s]\n",
            "    69/200     2.71G       0.955       0.795       0.924           1: 100% 56/56 [00:14<00:00,  3.98it/s]\n",
            "    70/200     2.71G       0.944       0.959       0.854       0.983: 100% 56/56 [00:14<00:00,  3.74it/s]\n",
            "    71/200     2.71G       0.943       0.888       0.879           1: 100% 56/56 [00:14<00:00,  3.96it/s]\n",
            "    72/200     2.71G       0.914       0.752       0.943       0.999: 100% 56/56 [00:14<00:00,  3.95it/s]\n",
            "    73/200     2.71G       0.943       0.907       0.866       0.998: 100% 56/56 [00:14<00:00,  3.81it/s]\n",
            "    74/200     2.71G        0.94       0.727       0.958           1: 100% 56/56 [00:14<00:00,  3.96it/s]\n",
            "    75/200     2.71G       0.916       0.702       0.959           1: 100% 56/56 [00:14<00:00,  3.96it/s]\n",
            "    76/200     2.71G       0.924       0.789       0.925       0.996: 100% 56/56 [00:14<00:00,  3.95it/s]\n",
            "    77/200     2.71G       0.908       0.735       0.955           1: 100% 56/56 [00:14<00:00,  3.96it/s]\n",
            "    78/200     2.71G       0.925       0.738       0.949       0.999: 100% 56/56 [00:14<00:00,  3.97it/s]\n",
            "    79/200     2.71G       0.905       0.846       0.914       0.996: 100% 56/56 [00:14<00:00,  3.93it/s]\n",
            "    80/200     2.71G       0.929       0.676       0.973           1: 100% 56/56 [00:14<00:00,  3.86it/s]\n",
            "    81/200     2.71G       0.883       0.813       0.904       0.996: 100% 56/56 [00:14<00:00,  3.98it/s]\n",
            "    82/200     2.71G       0.902       0.695       0.959           1: 100% 56/56 [00:13<00:00,  4.02it/s]\n",
            "    83/200     2.71G       0.905       0.776       0.933           1: 100% 56/56 [00:14<00:00,  3.78it/s]\n",
            "    84/200     2.71G       0.899       0.888       0.879       0.993: 100% 56/56 [00:14<00:00,  3.98it/s]\n",
            "    85/200     2.71G       0.896        0.72       0.951           1: 100% 56/56 [00:13<00:00,  4.00it/s]\n",
            "    86/200     2.71G       0.895       0.836       0.894           1: 100% 56/56 [00:14<00:00,  3.85it/s]\n",
            "    87/200     2.71G       0.919       0.671       0.963           1: 100% 56/56 [00:13<00:00,  4.01it/s]\n",
            "    88/200     2.71G       0.873       0.936       0.867       0.989: 100% 56/56 [00:13<00:00,  4.00it/s]\n",
            "    89/200     2.71G       0.867       0.976       0.823       0.994: 100% 56/56 [00:14<00:00,  3.96it/s]\n",
            "    90/200     2.71G       0.899       0.658       0.984           1: 100% 56/56 [00:14<00:00,  3.97it/s]\n",
            "    91/200     2.71G       0.893       0.663       0.983           1: 100% 56/56 [00:13<00:00,  4.03it/s]\n",
            "    92/200     2.71G       0.868        0.69       0.965           1: 100% 56/56 [00:14<00:00,  3.96it/s]\n",
            "    93/200     2.71G       0.864       0.752       0.922           1: 100% 56/56 [00:14<00:00,  3.80it/s]\n",
            "    94/200     2.71G       0.869       0.652       0.981           1: 100% 56/56 [00:14<00:00,  3.93it/s]\n",
            "    95/200     2.71G        0.85       0.734        0.95       0.999: 100% 56/56 [00:14<00:00,  3.97it/s]\n",
            "    96/200     2.71G        0.87       0.642        0.98           1: 100% 56/56 [00:14<00:00,  3.75it/s]\n",
            "    97/200     2.71G       0.841       0.789       0.917       0.998: 100% 56/56 [00:14<00:00,  3.94it/s]\n",
            "    98/200     2.71G       0.871       0.643       0.981           1: 100% 56/56 [00:14<00:00,  3.94it/s]\n",
            "    99/200     2.71G       0.861       0.706        0.96       0.999: 100% 56/56 [00:14<00:00,  3.84it/s]\n",
            "   100/200     2.71G       0.837       0.625        0.99       0.999: 100% 56/56 [00:14<00:00,  3.88it/s]\n",
            "   101/200     2.71G       0.852       0.645       0.978           1: 100% 56/56 [00:14<00:00,  3.97it/s]\n",
            "   102/200     2.71G       0.846       0.694       0.944           1: 100% 56/56 [00:14<00:00,  3.96it/s]\n",
            "   103/200     2.71G        0.83        0.65       0.979           1: 100% 56/56 [00:13<00:00,  4.00it/s]\n",
            "   104/200     2.71G       0.841       0.651       0.976       0.999: 100% 56/56 [00:14<00:00,  3.97it/s]\n",
            "   105/200     2.71G       0.856       0.621       0.983           1: 100% 56/56 [00:14<00:00,  3.96it/s]\n",
            "   106/200     2.71G       0.823       0.653       0.984           1: 100% 56/56 [00:14<00:00,  3.82it/s]\n",
            "   107/200     2.71G        0.83       0.619       0.995           1: 100% 56/56 [00:14<00:00,  3.88it/s]\n",
            "   108/200     2.71G       0.815       0.639       0.981           1: 100% 56/56 [00:13<00:00,  4.02it/s]\n",
            "   109/200     2.71G       0.836       0.667       0.966           1: 100% 56/56 [00:14<00:00,  3.76it/s]\n",
            "   110/200     2.71G       0.832       0.703       0.943       0.999: 100% 56/56 [00:14<00:00,  3.97it/s]\n",
            "   111/200     2.71G       0.796       0.627       0.974           1: 100% 56/56 [00:14<00:00,  3.96it/s]\n",
            "   112/200     2.71G       0.808       0.646       0.976           1: 100% 56/56 [00:14<00:00,  3.87it/s]\n",
            "   113/200     2.71G       0.822       0.633       0.981           1: 100% 56/56 [00:14<00:00,  3.86it/s]\n",
            "   114/200     2.71G       0.811       0.612        0.99           1: 100% 56/56 [00:14<00:00,  3.96it/s]\n",
            "   115/200     2.71G       0.807       0.626       0.986           1: 100% 56/56 [00:14<00:00,  3.97it/s]\n",
            "   116/200     2.71G       0.799       0.635       0.976           1: 100% 56/56 [00:13<00:00,  4.01it/s]\n",
            "   117/200     2.71G       0.809       0.612       0.989           1: 100% 56/56 [00:13<00:00,  4.01it/s]\n",
            "   118/200     2.71G       0.803         0.6       0.985           1: 100% 56/56 [00:14<00:00,  3.98it/s]\n",
            "   119/200     2.71G       0.806       0.646       0.971           1: 100% 56/56 [00:14<00:00,  3.83it/s]\n",
            "   120/200     2.71G       0.823       0.636       0.978           1: 100% 56/56 [00:14<00:00,  3.90it/s]\n",
            "   121/200     2.71G       0.797       0.613        0.99           1: 100% 56/56 [00:14<00:00,  3.96it/s]\n",
            "   122/200     2.71G       0.799       0.616        0.99           1: 100% 56/56 [00:14<00:00,  3.99it/s]\n",
            "   123/200     2.71G       0.795       0.617       0.988           1: 100% 56/56 [00:15<00:00,  3.72it/s]\n",
            "   124/200     2.71G       0.785       0.604       0.988           1: 100% 56/56 [00:14<00:00,  3.98it/s]\n",
            "   125/200     2.71G       0.773       0.705       0.944       0.998: 100% 56/56 [00:14<00:00,  3.97it/s]\n",
            "   126/200     2.71G       0.805         0.6       0.988           1: 100% 56/56 [00:14<00:00,  3.76it/s]\n",
            "   127/200     2.71G         0.8       0.602       0.991           1: 100% 56/56 [00:14<00:00,  3.92it/s]\n",
            "   128/200     2.71G       0.786       0.595       0.994           1: 100% 56/56 [00:14<00:00,  3.96it/s]\n",
            "   129/200     2.71G       0.777       0.612       0.976           1: 100% 56/56 [00:14<00:00,  3.99it/s]\n",
            "   130/200     2.71G       0.759       0.604       0.988           1: 100% 56/56 [00:14<00:00,  3.94it/s]\n",
            "   131/200     2.71G        0.77       0.595       0.988           1: 100% 56/56 [00:14<00:00,  3.98it/s]\n",
            "   132/200     2.71G       0.764       0.597       0.989           1: 100% 56/56 [00:14<00:00,  3.92it/s]\n",
            "   133/200     2.71G       0.769       0.591       0.995           1: 100% 56/56 [00:14<00:00,  3.95it/s]\n",
            "   134/200     2.71G       0.779       0.585       0.993           1: 100% 56/56 [00:13<00:00,  4.01it/s]\n",
            "   135/200     2.71G       0.779       0.591       0.993           1: 100% 56/56 [00:14<00:00,  3.97it/s]\n",
            "   136/200     2.71G       0.765        0.59        0.99           1: 100% 56/56 [00:15<00:00,  3.72it/s]\n",
            "   137/200     2.71G        0.76       0.595       0.989           1: 100% 56/56 [00:14<00:00,  3.91it/s]\n",
            "   138/200     2.71G       0.772       0.596        0.99           1: 100% 56/56 [00:14<00:00,  3.93it/s]\n",
            "   139/200     2.71G       0.785       0.589       0.991           1: 100% 56/56 [00:14<00:00,  3.80it/s]\n",
            "   140/200     2.71G       0.753       0.601        0.99           1: 100% 56/56 [00:14<00:00,  3.97it/s]\n",
            "   141/200     2.71G       0.776       0.598       0.989           1: 100% 56/56 [00:14<00:00,  3.94it/s]\n",
            "   142/200     2.71G       0.739       0.598       0.993           1: 100% 56/56 [00:14<00:00,  3.94it/s]\n",
            "   143/200     2.71G       0.759       0.597       0.989           1: 100% 56/56 [00:14<00:00,  3.96it/s]\n",
            "   144/200     2.71G       0.755       0.586       0.994           1: 100% 56/56 [00:14<00:00,  3.93it/s]\n",
            "   145/200     2.71G        0.75       0.589       0.991           1: 100% 56/56 [00:14<00:00,  3.84it/s]\n",
            "   146/200     2.71G       0.746       0.591        0.99           1: 100% 56/56 [00:14<00:00,  3.85it/s]\n",
            "   147/200     2.71G       0.754       0.594        0.99           1: 100% 56/56 [00:14<00:00,  3.94it/s]\n",
            "   148/200     2.71G       0.745       0.597        0.99           1: 100% 56/56 [00:14<00:00,  3.94it/s]\n",
            "   149/200     2.71G       0.756       0.589       0.993           1: 100% 56/56 [00:14<00:00,  3.76it/s]\n",
            "   150/200     2.71G       0.745       0.591        0.99           1: 100% 56/56 [00:14<00:00,  3.95it/s]\n",
            "   151/200     2.71G       0.737       0.584       0.991           1: 100% 56/56 [00:13<00:00,  4.01it/s]\n",
            "   152/200     2.71G       0.739       0.594       0.988           1: 100% 56/56 [00:15<00:00,  3.69it/s]\n",
            "   153/200     2.71G       0.729       0.583       0.991           1: 100% 56/56 [00:14<00:00,  3.97it/s]\n",
            "   154/200     2.71G       0.746       0.585        0.99           1: 100% 56/56 [00:14<00:00,  3.94it/s]\n",
            "   155/200     2.71G        0.75       0.589       0.991           1: 100% 56/56 [00:14<00:00,  3.95it/s]\n",
            "   156/200     2.71G       0.744       0.584        0.99           1: 100% 56/56 [00:14<00:00,  3.95it/s]\n",
            "   157/200     2.71G       0.728       0.585       0.991           1: 100% 56/56 [00:14<00:00,  3.97it/s]\n",
            "   158/200     2.71G       0.739       0.586       0.988           1: 100% 56/56 [00:14<00:00,  3.87it/s]\n",
            "   159/200     2.71G       0.725       0.586        0.99           1: 100% 56/56 [00:14<00:00,  3.88it/s]\n",
            "   160/200     2.71G       0.721       0.586       0.991           1: 100% 56/56 [00:14<00:00,  3.96it/s]\n",
            "   161/200     2.71G       0.719       0.586       0.991           1: 100% 56/56 [00:14<00:00,  3.98it/s]\n",
            "   162/200     2.71G       0.702        0.58       0.993           1: 100% 56/56 [00:15<00:00,  3.71it/s]\n",
            "   163/200     2.71G       0.736       0.579       0.993           1: 100% 56/56 [00:14<00:00,  3.99it/s]\n",
            "   164/200     2.71G       0.716       0.581       0.993           1: 100% 56/56 [00:14<00:00,  3.85it/s]\n",
            "   165/200     2.71G       0.713       0.581       0.993           1: 100% 56/56 [00:14<00:00,  3.82it/s]\n",
            "   166/200     2.71G       0.709       0.583       0.993           1: 100% 56/56 [00:14<00:00,  3.95it/s]\n",
            "   167/200     2.71G       0.719       0.582        0.99           1: 100% 56/56 [00:14<00:00,  3.96it/s]\n",
            "   168/200     2.71G       0.711       0.579       0.993           1: 100% 56/56 [00:14<00:00,  3.96it/s]\n",
            "   169/200     2.71G       0.702       0.582       0.991           1: 100% 56/56 [00:14<00:00,  3.95it/s]\n",
            "   170/200     2.71G       0.714       0.577       0.994           1: 100% 56/56 [00:14<00:00,  3.96it/s]\n",
            "   171/200     2.71G       0.699       0.578       0.994           1: 100% 56/56 [00:14<00:00,  3.80it/s]\n",
            "   172/200     2.71G       0.699       0.578       0.993           1: 100% 56/56 [00:14<00:00,  3.92it/s]\n",
            "   173/200     2.71G       0.696       0.578       0.991           1: 100% 56/56 [00:14<00:00,  3.95it/s]\n",
            "   174/200     2.71G       0.699       0.582       0.993           1: 100% 56/56 [00:14<00:00,  3.98it/s]\n",
            "   175/200     2.71G       0.703       0.575       0.993           1: 100% 56/56 [00:15<00:00,  3.73it/s]\n",
            "   176/200     2.71G       0.708       0.578       0.993           1: 100% 56/56 [00:14<00:00,  3.96it/s]\n",
            "   177/200     2.71G       0.697       0.578       0.993           1: 100% 56/56 [00:14<00:00,  3.89it/s]\n",
            "   178/200     2.71G       0.694       0.575       0.991           1: 100% 56/56 [00:14<00:00,  3.85it/s]\n",
            "   179/200     2.71G       0.693       0.576       0.991           1: 100% 56/56 [00:14<00:00,  3.97it/s]\n",
            "   180/200     2.71G       0.701       0.578        0.99           1: 100% 56/56 [00:14<00:00,  3.94it/s]\n",
            "   181/200     2.71G       0.691       0.578        0.99           1: 100% 56/56 [00:14<00:00,  3.91it/s]\n",
            "   182/200     2.71G       0.685        0.58        0.99           1: 100% 56/56 [00:14<00:00,  3.99it/s]\n",
            "   183/200     2.71G       0.685       0.577       0.991           1: 100% 56/56 [00:14<00:00,  3.92it/s]\n",
            "   184/200     2.71G       0.678       0.576        0.99           1: 100% 56/56 [00:14<00:00,  3.75it/s]\n",
            "   185/200     2.71G       0.693       0.575       0.993           1: 100% 56/56 [00:14<00:00,  3.92it/s]\n",
            "   186/200     2.71G       0.678       0.574       0.991           1: 100% 56/56 [00:14<00:00,  3.97it/s]\n",
            "   187/200     2.71G       0.688       0.574       0.991           1: 100% 56/56 [00:14<00:00,  3.95it/s]\n",
            "   188/200     2.71G       0.689       0.572       0.993           1: 100% 56/56 [00:15<00:00,  3.73it/s]\n",
            "   189/200     2.71G       0.678       0.573       0.993           1: 100% 56/56 [00:14<00:00,  3.95it/s]\n",
            "   190/200     2.71G       0.672       0.572       0.994           1: 100% 56/56 [00:14<00:00,  3.80it/s]\n",
            "   191/200     2.71G       0.666       0.572       0.994           1: 100% 56/56 [00:14<00:00,  3.92it/s]\n",
            "   192/200     2.71G       0.684       0.573       0.993           1: 100% 56/56 [00:14<00:00,  3.93it/s]\n",
            "   193/200     2.71G       0.676       0.573       0.993           1: 100% 56/56 [00:14<00:00,  3.94it/s]\n",
            "   194/200     2.71G       0.677       0.573       0.991           1: 100% 56/56 [00:14<00:00,  3.97it/s]\n",
            "   195/200     2.71G       0.652       0.576       0.993           1: 100% 56/56 [00:14<00:00,  3.98it/s]\n",
            "   196/200     2.71G       0.675       0.573       0.993           1: 100% 56/56 [00:14<00:00,  3.93it/s]\n",
            "   197/200     2.71G       0.668       0.575       0.993           1: 100% 56/56 [00:14<00:00,  3.80it/s]\n",
            "   198/200     2.71G       0.677       0.575       0.993           1: 100% 56/56 [00:14<00:00,  3.97it/s]\n",
            "   199/200     2.71G       0.671       0.578       0.993           1: 100% 56/56 [00:14<00:00,  3.95it/s]\n",
            "   200/200     2.71G       0.668       0.573       0.993           1: 100% 56/56 [00:14<00:00,  3.95it/s]\n",
            "\n",
            "Training complete (0.810 hours)\n",
            "Results saved to \u001b[1mruns/train-cls/exp3\u001b[0m\n",
            "Predict:         python classify/predict.py --weights runs/train-cls/exp3/weights/best.pt --source im.jpg\n",
            "Validate:        python classify/val.py --weights runs/train-cls/exp3/weights/best.pt --data /content/datasets/Chess-Piece-Detector-9\n",
            "Export:          python export.py --weights runs/train-cls/exp3/weights/best.pt --include onnx\n",
            "PyTorch Hub:     model = torch.hub.load('ultralytics/yolov5', 'custom', 'runs/train-cls/exp3/weights/best.pt')\n",
            "Visualize:       https://netron.app\n",
            "\n"
          ]
        }
      ]
    },
    {
      "cell_type": "code",
      "source": [
        "!python classify/predict.py --weights /content/yolov5/runs/train-cls/exp2/weights/best.pt --source /content/somePiece.png"
      ],
      "metadata": {
        "colab": {
          "base_uri": "https://localhost:8080/"
        },
        "id": "bzjKQfvRs8mF",
        "outputId": "ebb07789-f2bd-4aad-dd12-5898349df0bf"
      },
      "execution_count": null,
      "outputs": [
        {
          "output_type": "stream",
          "name": "stdout",
          "text": [
            "\u001b[34m\u001b[1mclassify/predict: \u001b[0mweights=['/content/yolov5/runs/train-cls/exp2/weights/best.pt'], source=/content/somePiece.png, data=data/coco128.yaml, imgsz=[224, 224], device=, view_img=False, save_txt=False, nosave=False, augment=False, visualize=False, update=False, project=runs/predict-cls, name=exp, exist_ok=False, half=False, dnn=False, vid_stride=1\n",
            "YOLOv5 🚀 v7.0-283-g875d9278 Python-3.10.12 torch-2.1.0+cu121 CUDA:0 (Tesla T4, 15102MiB)\n",
            "\n",
            "Traceback (most recent call last):\n",
            "  File \"/content/yolov5/classify/predict.py\", line 238, in <module>\n",
            "    main(opt)\n",
            "  File \"/content/yolov5/classify/predict.py\", line 233, in main\n",
            "    run(**vars(opt))\n",
            "  File \"/usr/local/lib/python3.10/dist-packages/torch/utils/_contextlib.py\", line 115, in decorate_context\n",
            "    return func(*args, **kwargs)\n",
            "  File \"/content/yolov5/classify/predict.py\", line 102, in run\n",
            "    model = DetectMultiBackend(weights, device=device, dnn=dnn, data=data, fp16=half)\n",
            "  File \"/content/yolov5/models/common.py\", line 370, in __init__\n",
            "    model = attempt_load(weights if isinstance(weights, list) else w, device=device, inplace=True, fuse=fuse)\n",
            "  File \"/content/yolov5/models/experimental.py\", line 78, in attempt_load\n",
            "    ckpt = torch.load(attempt_download(w), map_location=\"cpu\")  # load\n",
            "  File \"/usr/local/lib/python3.10/dist-packages/torch/serialization.py\", line 986, in load\n",
            "    with _open_file_like(f, 'rb') as opened_file:\n",
            "  File \"/usr/local/lib/python3.10/dist-packages/torch/serialization.py\", line 435, in _open_file_like\n",
            "    return _open_file(name_or_buffer, mode)\n",
            "  File \"/usr/local/lib/python3.10/dist-packages/torch/serialization.py\", line 416, in __init__\n",
            "    super().__init__(open(name, mode))\n",
            "FileNotFoundError: [Errno 2] No such file or directory: '/content/yolov5/runs/train-cls/exp2/weights/best.pt'\n"
          ]
        }
      ]
    },
    {
      "cell_type": "code",
      "source": [
        "!python export.py --weights yolov5s-cls.pt resnet50.pt efficientnet_b0.pt --include onnx engine --img 224"
      ],
      "metadata": {
        "id": "0mX3DNYDLsrk"
      },
      "execution_count": null,
      "outputs": []
    }
  ]
}